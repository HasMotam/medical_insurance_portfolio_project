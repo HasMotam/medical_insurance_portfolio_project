{
 "cells": [
  {
   "cell_type": "markdown",
   "metadata": {},
   "source": [
    "# U.S. Medical Insurance Costs"
   ]
  },
  {
   "cell_type": "markdown",
   "metadata": {},
   "source": [
    "Import necessary libraries and the dataset"
   ]
  },
  {
   "cell_type": "code",
   "execution_count": 40,
   "metadata": {},
   "outputs": [],
   "source": [
    "import csv\n",
    "ages = []\n",
    "sexes = []\n",
    "bmis = []\n",
    "children = []\n",
    "smokers = []\n",
    "regions = []\n",
    "ins_cost = []\n",
    "with open(\"data/insurance.csv\") as insurance_data:\n",
    "    insurancedata = csv.reader(insurance_data)\n",
    "    insurancedata.__next__()\n",
    "    for row in insurancedata:\n",
    "        ages.append(float(row[0]))\n",
    "        sexes.append(row[1])\n",
    "        bmis.append(float(row[2]))\n",
    "        children.append(float(row[3]))\n",
    "        smokers.append(row[4])\n",
    "        regions.append(row[5])\n",
    "        ins_cost.append(float(row[6]))\n",
    "        "
   ]
  },
  {
   "cell_type": "markdown",
   "metadata": {},
   "source": [
    "Create variables to take out each column of data ^ Completed above."
   ]
  },
  {
   "cell_type": "markdown",
   "metadata": {},
   "source": [
    "Build out analysis functions to answer the three questions in my project scope (repeated here):\n",
    "1. Do smokers have less children than non-smokers?\n",
    "2. Are there proportionally more smoking women than smoking men?\n",
    "3. Which region of the U.S. has the highest number of smoking women?"
   ]
  },
  {
   "cell_type": "code",
   "execution_count": 41,
   "metadata": {},
   "outputs": [],
   "source": [
    "def smokers_children(smokers,children):\n",
    "    \"\"\"\n",
    "    The function smokers_children(smokers,children) takes two inputs and computes a boolean value in response to the question: do smokers have less\n",
    "    children than non-smokers?\n",
    "\n",
    "    INPUTS:\n",
    "\n",
    "    smokers - a list of 'yes' or 'no' strings which indicate whether a person in the dataset is a smoker or not, respectively.\n",
    "    children - a list of integers which represent the number of children of each individual in the dataset.\n",
    "\n",
    "    These two lists have to be aligned.\n",
    "    \"\"\"\n",
    "    smokers_children=0\n",
    "    nonsmokers_children=0\n",
    "    i = 0\n",
    "    for smoke_status in smokers:\n",
    "        if smoke_status == 'yes':\n",
    "            smokers_children += children[i]\n",
    "        else:\n",
    "            nonsmokers_children += children[i]\n",
    "        i +=1\n",
    "    return smokers_children < nonsmokers_children\n",
    "\n",
    "def smoking_women_vs_men(sexes,smokers):\n",
    "    \"\"\"\n",
    "    The function smoking_women_vs_men(sexes,smokers) takes two inputs and computes a boolean value in response to the question: Proportionally, do more\n",
    "    women smoke than men?\n",
    "\n",
    "    INPUTS:\n",
    "\n",
    "    smokers - a list of 'yes' or 'no' strings which indicate whether a person in the dataset is a smoker or not, respectively.\n",
    "    sexes - a list of 'male' and 'female' strings that indicate whether a personn in the dataset is a male or a female, respectively.\n",
    "\n",
    "    These two lists must be aligned.\n",
    "    \"\"\"\n",
    "    no_of_men = sexes.count('male')\n",
    "    no_of_women = sexes.count('female')\n",
    "\n",
    "    no_of_smoking_men = 0\n",
    "    no_of_smoking_women = 0\n",
    "    count = 0\n",
    "    for person in sexes:\n",
    "        sex = sexes[count]\n",
    "        smoke_status = smokers[count]\n",
    "        if smoke_status == 'no':\n",
    "            pass\n",
    "        else:\n",
    "            if sex == 'male':\n",
    "                no_of_smoking_men += 1\n",
    "            else:\n",
    "                no_of_smoking_women += 1\n",
    "                \n",
    "    ratio_of_smoking_men = no_of_smoking_men/no_of_men\n",
    "    ratio_of_smoking_women = no_of_smoking_women/no_of_women\n",
    "\n",
    "    return ratio_of_smoking_women > ratio_of_smoking_men\n",
    "\n",
    "def region_of_most_female_smokers(regions,sexes,smokers):\n",
    "    \"\"\"\n",
    "    The function region_of_most_female_smokers(region,sexes) takes two inputs and computes a boolean value in response to the question: What region\n",
    "    contains the most smoking women.\n",
    "\n",
    "    INPUTS:\n",
    "\n",
    "    regions - a list of string values of the region of each individual in the dataset e.g. ['southeast','northwest',...,'southwest'].\n",
    "    sexes - a list of 'male' and 'female' strings that indicate whether a personn in the dataset is a male or a female, respectively.\n",
    "\n",
    "    These lists must be aligned\n",
    "    \"\"\"\n",
    "    fm_smokers_region = {'southeast': 0, 'southwest': 0, 'northwest': 0, 'northeast': 0}\n",
    "    count = 0\n",
    "    for person in sexes:\n",
    "        if person == 'female':\n",
    "            if smokers[count] == 'yes':\n",
    "                region = regions[count]\n",
    "                fm_smokers_region[region]  = fm_smokers_region[region] + 1\n",
    "            else:\n",
    "                pass\n",
    "        else:\n",
    "            pass\n",
    "        count += 1\n",
    "    \n",
    "    return max(fm_smokers_region, key=lambda k: fm_smokers_region[k])\n",
    "    \n",
    "        \n",
    "\n"
   ]
  },
  {
   "cell_type": "markdown",
   "metadata": {},
   "source": [
    "Now that I've built the analysis functions, I will call them in order to answer the three questions."
   ]
  },
  {
   "cell_type": "code",
   "execution_count": 42,
   "metadata": {},
   "outputs": [
    {
     "name": "stdout",
     "output_type": "stream",
     "text": [
      "The statement that smokers have less children than non-smokers is (for this dataset):  True\n",
      "The statement that, proportionally, more women smoke than men is:  True\n",
      "The region in the U.S. containing the greatest number of female smokers is:  southeast\n"
     ]
    }
   ],
   "source": [
    "print(\"The statement that smokers have less children than non-smokers is (for this dataset): \",smokers_children(smokers,children))\n",
    "print(\"The statement that, proportionally, more women smoke than men is: \",smoking_women_vs_men(sexes,smokers))\n",
    "print(\"The region in the U.S. containing the greatest number of female smokers is: \", region_of_most_female_smokers(regions,sexes,smokers))"
   ]
  }
 ],
 "metadata": {
  "kernelspec": {
   "display_name": "Python 3 (ipykernel)",
   "language": "python",
   "name": "python3"
  },
  "language_info": {
   "codemirror_mode": {
    "name": "ipython",
    "version": 3
   },
   "file_extension": ".py",
   "mimetype": "text/x-python",
   "name": "python",
   "nbconvert_exporter": "python",
   "pygments_lexer": "ipython3",
   "version": "3.11.4"
  }
 },
 "nbformat": 4,
 "nbformat_minor": 4
}
